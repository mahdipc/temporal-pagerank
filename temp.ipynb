{
 "cells": [
  {
   "cell_type": "code",
   "execution_count": 1,
   "metadata": {},
   "outputs": [],
   "source": [
    "import allutils.graph_generator\n",
    "from allutils.general_PR import flowPR\n",
    "import networkx as nx\n",
    "import matplotlib.pyplot as plt\n",
    "import numpy as np\n",
    "import pickle\n",
    "import uuid\n",
    "import sys\n",
    "from allutils.utils_experiments import *\n",
    "\n",
    "import networkx as nx\n",
    "import copy\n",
    "import numpy as np\n",
    "from datetime import datetime, timedelta\n",
    "import os.path\n",
    "import matplotlib.pyplot as plt"
   ]
  },
  {
   "cell_type": "code",
   "execution_count": 10,
   "metadata": {},
   "outputs": [],
   "source": [
    "\n",
    "\n",
    "#mode = sys.argv[1]\n",
    "#mode = 'SFree'\n",
    "mode = 'input100'\n",
    "\n",
    "do_plot = True\n",
    "do_dump = False\n",
    "\n",
    "n = 61 #number of nodes in the graph\n",
    "iters = 1376 #number of temporal edges in the graph\n",
    "\n",
    "alpha = 0.85\n",
    "beta = 0.0\n",
    "gamma = 1.0\n",
    "\n",
    "if mode != 'random':\n",
    "    weights = 'real'\n",
    "else:\n",
    "    weights = 'random'"
   ]
  },
  {
   "cell_type": "code",
   "execution_count": 11,
   "metadata": {},
   "outputs": [],
   "source": [
    "def readRealGraph(filepath):\n",
    "    edgesTS = []\n",
    "    nodes = set()\n",
    "    edges = set()\n",
    "    lookup = {}\n",
    "\n",
    "    weights = {}\n",
    "    c = 0\n",
    "    with open(filepath, 'r') as fd:\n",
    "        for line in fd.readlines():\n",
    "\n",
    "            line = line.strip()\n",
    "            items = line.split(' ')\n",
    "            tstamp = ' '.join(items[0:2])\n",
    "            tstamp = tstamp[1:-1]\n",
    "            tstamp = datetime.strptime(tstamp, '%Y-%m-%d %H:%M:%S')\n",
    "            t = items[2:4]\n",
    "            t = list(map(int, t))\n",
    "            \n",
    "            t[0] += 1\n",
    "            t[1] += 1\n",
    "            \n",
    "            if t[0] == t[1]:\n",
    "                continue\n",
    "            # t.sort(); #undirected\n",
    "\n",
    "            if tuple(t) in lookup.keys():\n",
    "                num = lookup[tuple(t)]\n",
    "            else:\n",
    "                num = c\n",
    "                lookup[tuple(t)] = c\n",
    "                c += 1\n",
    "\n",
    "            edgesTS.append((tstamp, tuple(t), num))\n",
    "            nodes.add(t[0])\n",
    "            nodes.add(t[1])\n",
    "            edges.add(tuple([t[0], t[1]]))\n",
    "            # weights[str(t[0])+','+str(t[1])] = int(items[4])\n",
    "    fd.close()\n",
    "    return edgesTS, nodes, edges, weights\n"
   ]
  },
  {
   "cell_type": "code",
   "execution_count": 12,
   "metadata": {},
   "outputs": [],
   "source": [
    "edgesTS,nodes, edges, weights_input = readRealGraph(os.path.join('.',  \"Data\", mode+\".txt\"))"
   ]
  },
  {
   "cell_type": "code",
   "execution_count": 14,
   "metadata": {},
   "outputs": [],
   "source": [
    "def getGraph(edgesTS):\n",
    "    G = nx.DiGraph()\n",
    "    edges = {}\n",
    "\n",
    "    for item in edgesTS:\n",
    "        edge = item[1]\n",
    "        edges[edge] = edges.get(edge, 0.0) + 1.0\n",
    "\n",
    "    #nrm = float(sum(edges.values()))\n",
    "    G.add_edges_from([(k[0], k[1], {'weight': v}) for k, v in edges.items()])\n",
    "    # G.add_edges_from([tuple(edge)])\n",
    "    return G"
   ]
  },
  {
   "cell_type": "code",
   "execution_count": 15,
   "metadata": {},
   "outputs": [],
   "source": [
    "G = getGraph(edgesTS)"
   ]
  },
  {
   "cell_type": "code",
   "execution_count": 18,
   "metadata": {},
   "outputs": [],
   "source": [
    "\n",
    "G = nx.DiGraph(G)"
   ]
  },
  {
   "cell_type": "code",
   "execution_count": 20,
   "metadata": {},
   "outputs": [],
   "source": [
    "G.remove_edges_from(nx.selfloop_edges(G))\n"
   ]
  },
  {
   "cell_type": "code",
   "execution_count": 22,
   "metadata": {},
   "outputs": [],
   "source": [
    "\n",
    "def getSubgraph(G, N):\n",
    "    Gcc = sorted([G.subgraph(c) for c in nx.connected_components(\n",
    "        G.to_undirected())], key=len, reverse=True)\n",
    "    print(len(Gcc))\n",
    "    nodes = set()\n",
    "    i = 0\n",
    "\n",
    "    while len(nodes) < N:\n",
    "        s = np.random.choice(Gcc[i].nodes())\n",
    "        i += 1\n",
    "        nodes.add(s)\n",
    "        for edge in nx.bfs_edges(G.to_undirected(), s):\n",
    "            nodes.add(edge[1])\n",
    "            if len(nodes) == N:\n",
    "                break\n",
    "    return nx.subgraph(G, nodes)\n"
   ]
  },
  {
   "cell_type": "code",
   "execution_count": 24,
   "metadata": {},
   "outputs": [
    {
     "name": "stdout",
     "output_type": "stream",
     "text": [
      "6\n"
     ]
    }
   ],
   "source": [
    "\n",
    "G = getSubgraph(G, n)"
   ]
  },
  {
   "cell_type": "code",
   "execution_count": null,
   "metadata": {},
   "outputs": [],
   "source": []
  },
  {
   "cell_type": "code",
   "execution_count": null,
   "metadata": {},
   "outputs": [],
   "source": []
  },
  {
   "cell_type": "code",
   "execution_count": 3,
   "metadata": {},
   "outputs": [
    {
     "name": "stdout",
     "output_type": "stream",
     "text": [
      "6\n",
      "1 22\n",
      "2 75\n",
      "3 60\n",
      "4 18\n",
      "5 28\n",
      "6 64\n"
     ]
    },
    {
     "ename": "IndexError",
     "evalue": "list index out of range",
     "output_type": "error",
     "traceback": [
      "\u001b[1;31m---------------------------------------------------------------------------\u001b[0m",
      "\u001b[1;31mIndexError\u001b[0m                                Traceback (most recent call last)",
      "\u001b[1;32m<ipython-input-3-2dfd2a90a00b>\u001b[0m in \u001b[0;36m<module>\u001b[1;34m\u001b[0m\n\u001b[1;32m----> 1\u001b[1;33m \u001b[0mG\u001b[0m \u001b[1;33m=\u001b[0m \u001b[0mallutils\u001b[0m\u001b[1;33m.\u001b[0m\u001b[0mgraph_generator\u001b[0m\u001b[1;33m.\u001b[0m\u001b[0mweighted_DiGraph\u001b[0m\u001b[1;33m(\u001b[0m\u001b[0mn\u001b[0m\u001b[1;33m,\u001b[0m \u001b[0mseed\u001b[0m \u001b[1;33m=\u001b[0m \u001b[1;36m1.0\u001b[0m\u001b[1;33m,\u001b[0m \u001b[0mmode\u001b[0m \u001b[1;33m=\u001b[0m \u001b[0mmode\u001b[0m\u001b[1;33m,\u001b[0m \u001b[0mweights\u001b[0m \u001b[1;33m=\u001b[0m \u001b[0mweights\u001b[0m\u001b[1;33m)\u001b[0m\u001b[1;33m\u001b[0m\u001b[1;33m\u001b[0m\u001b[0m\n\u001b[0m\u001b[0;32m      2\u001b[0m \u001b[0mnorm\u001b[0m \u001b[1;33m=\u001b[0m \u001b[0msum\u001b[0m\u001b[1;33m(\u001b[0m\u001b[1;33m[\u001b[0m\u001b[0mval\u001b[0m \u001b[1;32mfor\u001b[0m \u001b[1;33m(\u001b[0m\u001b[0mnode\u001b[0m\u001b[1;33m,\u001b[0m \u001b[0mval\u001b[0m\u001b[1;33m)\u001b[0m \u001b[1;32min\u001b[0m \u001b[0mG\u001b[0m\u001b[1;33m.\u001b[0m\u001b[0mout_degree\u001b[0m\u001b[1;33m(\u001b[0m\u001b[0mweight\u001b[0m\u001b[1;33m=\u001b[0m\u001b[1;34m'weight'\u001b[0m\u001b[1;33m)\u001b[0m\u001b[1;33m]\u001b[0m\u001b[1;33m)\u001b[0m\u001b[1;33m\u001b[0m\u001b[1;33m\u001b[0m\u001b[0m\n\u001b[0;32m      3\u001b[0m \u001b[0msampling_edges\u001b[0m \u001b[1;33m=\u001b[0m \u001b[1;33m{\u001b[0m\u001b[0me\u001b[0m\u001b[1;33m[\u001b[0m\u001b[1;33m:\u001b[0m\u001b[1;33m-\u001b[0m\u001b[1;36m1\u001b[0m\u001b[1;33m]\u001b[0m\u001b[1;33m:\u001b[0m \u001b[0me\u001b[0m\u001b[1;33m[\u001b[0m\u001b[1;33m-\u001b[0m\u001b[1;36m1\u001b[0m\u001b[1;33m]\u001b[0m\u001b[1;33m[\u001b[0m\u001b[1;34m'weight'\u001b[0m\u001b[1;33m]\u001b[0m\u001b[1;33m/\u001b[0m\u001b[0mnorm\u001b[0m \u001b[1;32mfor\u001b[0m \u001b[0me\u001b[0m \u001b[1;32min\u001b[0m \u001b[0mG\u001b[0m\u001b[1;33m.\u001b[0m\u001b[0medges\u001b[0m\u001b[1;33m(\u001b[0m\u001b[0mdata\u001b[0m\u001b[1;33m=\u001b[0m\u001b[1;32mTrue\u001b[0m\u001b[1;33m)\u001b[0m\u001b[1;33m}\u001b[0m\u001b[1;33m\u001b[0m\u001b[1;33m\u001b[0m\u001b[0m\n\u001b[0;32m      4\u001b[0m \u001b[0mstream\u001b[0m \u001b[1;33m=\u001b[0m \u001b[1;33m[\u001b[0m\u001b[0mlist\u001b[0m\u001b[1;33m(\u001b[0m\u001b[0msampling_edges\u001b[0m\u001b[1;33m.\u001b[0m\u001b[0mkeys\u001b[0m\u001b[1;33m(\u001b[0m\u001b[1;33m)\u001b[0m\u001b[1;33m)\u001b[0m\u001b[1;33m[\u001b[0m\u001b[0mi\u001b[0m\u001b[1;33m]\u001b[0m \u001b[1;32mfor\u001b[0m \u001b[0mi\u001b[0m \u001b[1;32min\u001b[0m \u001b[0mnp\u001b[0m\u001b[1;33m.\u001b[0m\u001b[0mrandom\u001b[0m\u001b[1;33m.\u001b[0m\u001b[0mchoice\u001b[0m\u001b[1;33m(\u001b[0m\u001b[0mrange\u001b[0m\u001b[1;33m(\u001b[0m\u001b[0mlen\u001b[0m\u001b[1;33m(\u001b[0m\u001b[0msampling_edges\u001b[0m\u001b[1;33m)\u001b[0m\u001b[1;33m)\u001b[0m\u001b[1;33m,\u001b[0m \u001b[0msize\u001b[0m\u001b[1;33m=\u001b[0m\u001b[0miters\u001b[0m\u001b[1;33m,\u001b[0m\u001b[1;33m)\u001b[0m\u001b[1;33m]\u001b[0m\u001b[1;31m# p=sampling_edges.values()\u001b[0m\u001b[1;33m\u001b[0m\u001b[1;33m\u001b[0m\u001b[0m\n\u001b[0;32m      5\u001b[0m \u001b[1;33m\u001b[0m\u001b[0m\n",
      "\u001b[1;32mc:\\temp\\temporal-pagerank\\allutils\\graph_generator.py\u001b[0m in \u001b[0;36mweighted_DiGraph\u001b[1;34m(n, seed, mode, weights)\u001b[0m\n\u001b[0;32m    111\u001b[0m         \u001b[0mG\u001b[0m \u001b[1;33m=\u001b[0m \u001b[0mnx\u001b[0m\u001b[1;33m.\u001b[0m\u001b[0mDiGraph\u001b[0m\u001b[1;33m(\u001b[0m\u001b[0mG\u001b[0m\u001b[1;33m)\u001b[0m\u001b[1;33m\u001b[0m\u001b[1;33m\u001b[0m\u001b[0m\n\u001b[0;32m    112\u001b[0m         \u001b[0mG\u001b[0m\u001b[1;33m.\u001b[0m\u001b[0mremove_edges_from\u001b[0m\u001b[1;33m(\u001b[0m\u001b[0mnx\u001b[0m\u001b[1;33m.\u001b[0m\u001b[0mselfloop_edges\u001b[0m\u001b[1;33m(\u001b[0m\u001b[0mG\u001b[0m\u001b[1;33m)\u001b[0m\u001b[1;33m)\u001b[0m\u001b[1;33m\u001b[0m\u001b[1;33m\u001b[0m\u001b[0m\n\u001b[1;32m--> 113\u001b[1;33m         \u001b[0mG\u001b[0m \u001b[1;33m=\u001b[0m \u001b[0mgetSubgraph\u001b[0m\u001b[1;33m(\u001b[0m\u001b[0mG\u001b[0m\u001b[1;33m,\u001b[0m \u001b[0mn\u001b[0m\u001b[1;33m)\u001b[0m\u001b[1;33m\u001b[0m\u001b[1;33m\u001b[0m\u001b[0m\n\u001b[0m\u001b[0;32m    114\u001b[0m \u001b[1;33m\u001b[0m\u001b[0m\n\u001b[0;32m    115\u001b[0m     \u001b[0mG\u001b[0m \u001b[1;33m=\u001b[0m \u001b[0mG\u001b[0m\u001b[1;33m.\u001b[0m\u001b[0mcopy\u001b[0m\u001b[1;33m(\u001b[0m\u001b[1;33m)\u001b[0m\u001b[1;33m\u001b[0m\u001b[1;33m\u001b[0m\u001b[0m\n",
      "\u001b[1;32mc:\\temp\\temporal-pagerank\\allutils\\graph_generator.py\u001b[0m in \u001b[0;36mgetSubgraph\u001b[1;34m(G, N)\u001b[0m\n\u001b[0;32m     27\u001b[0m \u001b[1;33m\u001b[0m\u001b[0m\n\u001b[0;32m     28\u001b[0m     \u001b[1;32mwhile\u001b[0m \u001b[0mlen\u001b[0m\u001b[1;33m(\u001b[0m\u001b[0mnodes\u001b[0m\u001b[1;33m)\u001b[0m \u001b[1;33m<\u001b[0m \u001b[0mN\u001b[0m\u001b[1;33m:\u001b[0m\u001b[1;33m\u001b[0m\u001b[1;33m\u001b[0m\u001b[0m\n\u001b[1;32m---> 29\u001b[1;33m         \u001b[0ms\u001b[0m \u001b[1;33m=\u001b[0m \u001b[0mnp\u001b[0m\u001b[1;33m.\u001b[0m\u001b[0mrandom\u001b[0m\u001b[1;33m.\u001b[0m\u001b[0mchoice\u001b[0m\u001b[1;33m(\u001b[0m\u001b[0mGcc\u001b[0m\u001b[1;33m[\u001b[0m\u001b[0mi\u001b[0m\u001b[1;33m]\u001b[0m\u001b[1;33m.\u001b[0m\u001b[0mnodes\u001b[0m\u001b[1;33m(\u001b[0m\u001b[1;33m)\u001b[0m\u001b[1;33m)\u001b[0m\u001b[1;33m\u001b[0m\u001b[1;33m\u001b[0m\u001b[0m\n\u001b[0m\u001b[0;32m     30\u001b[0m         \u001b[0mi\u001b[0m \u001b[1;33m+=\u001b[0m \u001b[1;36m1\u001b[0m\u001b[1;33m\u001b[0m\u001b[1;33m\u001b[0m\u001b[0m\n\u001b[0;32m     31\u001b[0m         \u001b[0mprint\u001b[0m\u001b[1;33m(\u001b[0m\u001b[0mi\u001b[0m\u001b[1;33m,\u001b[0m \u001b[0ms\u001b[0m\u001b[1;33m)\u001b[0m\u001b[1;33m\u001b[0m\u001b[1;33m\u001b[0m\u001b[0m\n",
      "\u001b[1;31mIndexError\u001b[0m: list index out of range"
     ]
    }
   ],
   "source": [
    "\n",
    "norm = sum([val for (node, val) in G.out_degree(weight='weight')])\n",
    "sampling_edges = {e[:-1]: e[-1]['weight']/norm for e in G.edges(data=True)}\n",
    "stream = [list(sampling_edges.keys())[i] for i in np.random.choice(range(len(sampling_edges)), size=iters,)]# p=sampling_edges.values()\n",
    "    "
   ]
  },
  {
   "cell_type": "code",
   "execution_count": null,
   "metadata": {},
   "outputs": [],
   "source": [
    "\n",
    "# basic (degree personalization)\n",
    "personalization = {k: v / norm for k, v in G.out_degree(weight='weight')}\n",
    "p_prime_nodes = {i: personalization[i]/G.out_degree(i, weight='weight') for i in G.nodes()}\n",
    "pr_basic = nx.pagerank(G, alpha=alpha, personalization=personalization, weight='weight')\n",
    "RS4_basic, current_basic = {}, {}\n",
    "RS4_basic, current_basic, tau_basic, spearman_basic, pearson_basic, error_basic, x = flowPR(p_prime_nodes, pr_basic, stream, RS4_basic, current_basic, iters = iters, beta = beta, gamma = gamma)\n"
   ]
  },
  {
   "cell_type": "code",
   "execution_count": null,
   "metadata": {},
   "outputs": [],
   "source": [
    "# no personalization\n",
    "personalization = {k: 1.0 / G.number_of_nodes() for k in G.nodes()}\n",
    "p_prime_nodes = {i: personalization[i]/G.out_degree(i, weight='weight') for i in G.nodes()}\n",
    "pr_nopers = nx.pagerank(G, alpha=alpha, personalization=personalization, weight='weight')\n",
    "RS4_nopers, current_nopers = {}, {}\n",
    "RS4_nopers, current_nopers, tau_nopers, spearman_nopers, pearson_nopers, error_nopers, x = flowPR(p_prime_nodes, pr_nopers, stream,RS4_nopers, current_nopers, iters = iters, beta = beta, gamma = gamma)\n"
   ]
  },
  {
   "cell_type": "code",
   "execution_count": null,
   "metadata": {},
   "outputs": [],
   "source": [
    "# random personalization\n",
    "personalization = {k: np.random.uniform(1e-5, 1.0) for k in G.nodes()}\n",
    "personalization = {k: v/ sum(personalization.values()) for k,v in personalization.items()}\n",
    "p_prime_nodes = {i: personalization[i]/G.out_degree(i, weight='weight') for i in G.nodes()}\n",
    "pr_rand = nx.pagerank(G, alpha=alpha, personalization=personalization, weight='weight')\n",
    "RS4_rand, current_rand = {}, {}\n",
    "RS4_rand, current_rand, tau_rand, spearman_rand, pearson_rand, error_rand, x = flowPR(p_prime_nodes, pr_rand, stream, RS4_rand, current_rand, iters = iters, beta = beta, gamma = gamma)\n"
   ]
  },
  {
   "cell_type": "code",
   "execution_count": null,
   "metadata": {},
   "outputs": [],
   "source": [
    "if do_dump:        \n",
    "    unique_out = mode + '_personalization_' + str(uuid.uuid4())\n",
    "    pickle.dump([pr_basic, RS4_basic, pearson_basic, spearman_basic, tau_basic, error_basic, x,\n",
    "                    pr_nopers, RS4_nopers, pearson_nopers, spearman_nopers, tau_nopers, error_nopers,\n",
    "                    pr_rand, RS4_rand, pearson_rand, spearman_rand, tau_rand, error_rand], open(unique_out+\".p\", \"wb\"))\n",
    "if do_plot:\n",
    "\n",
    "    ordered_pr_ref_basic, ordered_pr_out_basic = get_ordered_ranks(pr_basic, RS4_basic)\n",
    "    ordered_pr_ref_nopers, ordered_pr_out_nopers = get_ordered_ranks(pr_nopers, RS4_nopers)\n",
    "    ordered_pr_ref_rand, ordered_pr_out_rand = get_ordered_ranks(pr_rand, RS4_rand)\n",
    "\n",
    "    plt.rcParams.update({'font.size': 20, 'lines.linewidth': 3})\n",
    "    plt.rcParams['xtick.labelsize'] = 25\n",
    "    plt.rcParams['ytick.labelsize'] = 25\n",
    "    \n",
    "    \n",
    "    # scatter plot for rankings\n",
    "    plt.figure('scatter_' + mode)\n",
    "    plt.scatter(ordered_pr_ref_basic, ordered_pr_out_basic, s=50, c='b')\n",
    "    plt.plot(range(1, 101), range(1, 101), 'k--')\n",
    "    plt.xlabel('static PageRank', fontsize=25)\n",
    "    plt.ylabel('temporal PageRank', fontsize=25)\n",
    "    plt.ylim((0, 101))\n",
    "    plt.xlim((0, 101))\n",
    "    plt.tight_layout()\n",
    "    plt.savefig(mode + '_scatter.pdf')\n",
    "\n",
    "    \n",
    "    \n",
    "    plt.figure('convergence_basic_' + mode)        \n",
    "    plt.plot(x, pearson_basic, 'k--')\n",
    "    plt.plot(x, spearman_basic, 'k-')\n",
    "    #plt.plot(x, tau_basic, 'k-.')\n",
    "    plt.plot(x, error_basic, 'k:')\n",
    "    plt.xlabel('number of temporal edges', fontsize=25)\n",
    "    plt.ylim((0, 1))\n",
    "    plt.legend(['Pearson\\'s r', 'Spearman\\'s rho', 'error'], loc=0)\n",
    "    plt.tight_layout()\n",
    "    plt.savefig(mode+'_convergence_basic.pdf')\n",
    "    \n",
    "    \n",
    "    \n",
    "    plt.figure('convergence_rand' + mode)\n",
    "    plt.plot(x, pearson_rand, 'k--')\n",
    "    plt.plot(x, spearman_rand, 'k-')\n",
    "    #plt.plot(x, tau_basic, 'k-.')\n",
    "    plt.plot(x, error_rand, 'k:')\n",
    "    plt.xlabel('number of temporal edges', fontsize=25)\n",
    "    plt.ylim((0, 1))\n",
    "    plt.legend(['Pearson\\'s r', 'Spearman\\'s rho', 'error'], loc=0)\n",
    "    plt.tight_layout()\n",
    "    plt.savefig(mode+'_convergence_rand.pdf')\n",
    "    #plt.show()\n"
   ]
  }
 ],
 "metadata": {
  "interpreter": {
   "hash": "ee6ef56facda7503055c4941e2c2083c4bcc9ecb08a66ac58f56d3b05ea5e5fc"
  },
  "kernelspec": {
   "display_name": "Python 3.8.5 ('tensorflow')",
   "language": "python",
   "name": "python3"
  },
  "language_info": {
   "codemirror_mode": {
    "name": "ipython",
    "version": 3
   },
   "file_extension": ".py",
   "mimetype": "text/x-python",
   "name": "python",
   "nbconvert_exporter": "python",
   "pygments_lexer": "ipython3",
   "version": "3.8.5"
  },
  "orig_nbformat": 4
 },
 "nbformat": 4,
 "nbformat_minor": 2
}
