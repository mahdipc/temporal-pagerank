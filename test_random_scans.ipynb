{
 "cells": [
  {
   "cell_type": "code",
   "execution_count": 1,
   "metadata": {},
   "outputs": [],
   "source": [
    "import allutils.graph_generator\n",
    "from allutils.general_PR import flowPR\n",
    "import networkx as nx\n",
    "import matplotlib.pyplot as plt\n",
    "import numpy as np\n",
    "import operator\n",
    "import copy\n",
    "import sys\n",
    "import uuid\n",
    "import pickle"
   ]
  },
  {
   "cell_type": "code",
   "execution_count": 2,
   "metadata": {},
   "outputs": [],
   "source": [
    "\n",
    "#mode = sys.argv[1]\n",
    "mode = 'facebook'\n",
    "\n",
    "do_plot = True\n",
    "do_dump = False\n",
    "\n",
    "n = 100\n",
    "iters = 100000\n",
    "alpha = 0.85\n",
    "\n",
    "beta = 0.0\n",
    "gamma = 1.0\n",
    "\n",
    "if mode != 'random':\n",
    "    weights = 'real'\n",
    "else:\n",
    "    weights = 'random'"
   ]
  },
  {
   "cell_type": "code",
   "execution_count": 3,
   "metadata": {},
   "outputs": [
    {
     "name": "stdout",
     "output_type": "stream",
     "text": [
      "344\n",
      "DiGraph with 100 nodes and 3991 edges\n"
     ]
    }
   ],
   "source": [
    "\n",
    "G = allutils.graph_generator.weighted_DiGraph(n, seed = 1.0, mode = mode, weights = weights)\n",
    "norm = sum([val for (node, val) in G.out_degree(weight='weight')])\n",
    "sampling_edges = {e[:-1]: e[-1]['weight']/norm for e in G.edges(data=True)}\n",
    "personalization = {k: v / norm for k, v in G.out_degree(weight='weight')}\n",
    "p_prime_nodes = {i: personalization[i]/G.out_degree(i, weight='weight') for i in G.nodes()}\n",
    "pr = nx.pagerank(G, alpha=alpha, personalization=personalization, weight='weight')\n"
   ]
  },
  {
   "cell_type": "code",
   "execution_count": 4,
   "metadata": {},
   "outputs": [],
   "source": [
    "rank_order = [key for (key, value) in sorted(pr.items(), key=operator.itemgetter(1), reverse=True)]\n",
    "ordered_pr = np.array([pr[k] for k in rank_order])\n",
    "\n",
    "RS, current = {},{}\n",
    "array_tau, array_spearman, array_pearson, array_error = [],[],[],[]\n",
    "rng = range(1, 101)\n"
   ]
  },
  {
   "cell_type": "code",
   "execution_count": 6,
   "metadata": {},
   "outputs": [
    {
     "data": {
      "image/png": "[encoded data removed]",
      "text/plain": [
       "<Figure size 432x288 with 1 Axes>"
      ]
     },
     "metadata": {
      "needs_background": "light"
     },
     "output_type": "display_data"
    }
   ],
   "source": [
    "\n",
    "for i in rng:\n",
    "    stream = [list(sampling_edges.keys())[i] for i in np.random.permutation(range(len(sampling_edges)))]\n",
    "    \n",
    "    RS, current, tau, spearman, pearson, error, x = flowPR(p_prime_nodes, pr, stream, copy.deepcopy(RS), copy.deepcopy(current), iters = iters, beta = beta, gamma = gamma)\n",
    "    array_tau.append(copy.deepcopy(tau[-1]))\n",
    "    array_spearman.append(copy.deepcopy(spearman[-1]))\n",
    "    array_pearson.append(copy.deepcopy(pearson[-1]))\n",
    "    array_error.append(copy.deepcopy(error[-1]))\n",
    "    \n",
    "if do_dump:\n",
    "    unique_out = mode + '_one_run_' + str(uuid.uuid4())\n",
    "    pickle.dump([array_pearson, array_spearman, array_tau, array_error, rng], open(unique_out + \".p\", \"wb\"))\n",
    "\n",
    "if do_plot:    \n",
    "    plt.figure('one sweep '+ mode)        \n",
    "    plt.plot(rng, array_pearson, 'k--')\n",
    "    plt.plot(rng, array_spearman, 'k-')\n",
    "    #plt.plot(rng, array_tau, 'k-.')\n",
    "    plt.plot(rng, array_error, 'k:')\n",
    "\n",
    "    plt.xlabel('number of scans', fontsize=25)\n",
    "    plt.ylim((0, 1))\n",
    "    plt.legend(['Pearson\\'s r', 'Spearman\\'s rho', 'error'], loc=0)\n",
    "    plt.tight_layout()\n",
    "    plt.savefig('one_sweep_'+ mode+'.pdf')\n",
    "    "
   ]
  },
  {
   "cell_type": "code",
   "execution_count": null,
   "metadata": {},
   "outputs": [],
   "source": []
  }
 ],
 "metadata": {
  "interpreter": {
   "hash": "ee6ef56facda7503055c4941e2c2083c4bcc9ecb08a66ac58f56d3b05ea5e5fc"
  },
  "kernelspec": {
   "display_name": "Python 3.8.5 ('tensorflow')",
   "language": "python",
   "name": "python3"
  },
  "language_info": {
   "codemirror_mode": {
    "name": "ipython",
    "version": 3
   },
   "file_extension": ".py",
   "mimetype": "text/x-python",
   "name": "python",
   "nbconvert_exporter": "python",
   "pygments_lexer": "ipython3",
   "version": "3.8.5"
  },
  "orig_nbformat": 4
 },
 "nbformat": 4,
 "nbformat_minor": 2
}
