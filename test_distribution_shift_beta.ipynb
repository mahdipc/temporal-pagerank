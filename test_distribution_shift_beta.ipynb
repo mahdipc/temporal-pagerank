{
 "cells": [
  {
   "cell_type": "code",
   "execution_count": 1,
   "metadata": {},
   "outputs": [],
   "source": [
    "import scipy.stats\n",
    "import allutils.graph_generator\n",
    "from allutils.general_PR import flowPR\n",
    "import networkx as nx\n",
    "import matplotlib.pyplot as plt\n",
    "import numpy as np\n",
    "import sys\n",
    "import copy\n",
    "import pickle\n",
    "import uuid"
   ]
  },
  {
   "cell_type": "code",
   "execution_count": 2,
   "metadata": {},
   "outputs": [],
   "source": [
    "\n",
    "#mode = sys.argv[1]\n",
    "#beta = float(sys.argv[2])\n",
    "mode = 'facebook'\n",
    "beta = 0.0\n",
    "\n",
    "do_plot = True\n",
    "do_dump = False\n",
    "\n",
    "n = 100\n",
    "iters = 100000\n",
    "alpha = 0.85\n",
    "gamma = 1.0\n",
    "\n",
    "weights = 'random'\n"
   ]
  },
  {
   "cell_type": "code",
   "execution_count": 11,
   "metadata": {},
   "outputs": [
    {
     "name": "stdout",
     "output_type": "stream",
     "text": [
      "344\n",
      "DiGraph with 100 nodes and 2913 edges\n",
      "92110.99729802037\n"
     ]
    }
   ],
   "source": [
    "\n",
    "\n",
    "G = allutils.graph_generator.weighted_DiGraph(n, seed = 1.0, mode = mode, weights = weights)\n",
    "norm = sum([val for (node, val) in G.out_degree(weight='weight')])\n",
    "sampling_edges = {e[:-1]: e[-1]['weight']/norm for e in G.edges(data=True)}\n",
    "stream = [list(sampling_edges.keys())[i] for i in np.random.choice(range(len(sampling_edges)), size=iters)]#, p=sampling_edges.values()\n",
    "personalization = {k: v / norm for k, v in G.out_degree(weight='weight')}\n",
    "p_prime_nodes = {i: personalization[i]/G.out_degree(i, weight='weight') for i in G.nodes()}\n",
    "pr_basic = nx.pagerank(G, alpha=alpha, personalization=personalization, weight='weight')\n",
    "\n",
    "RS_init, current_init = {}, {}    \n",
    "RS, current, tau, spearman, pearson, error, x = flowPR(p_prime_nodes, pr_basic, stream, RS_init, current_init, iters = iters, beta = beta, gamma = gamma)\n"
   ]
  },
  {
   "cell_type": "code",
   "execution_count": 13,
   "metadata": {},
   "outputs": [],
   "source": [
    "\n",
    "#1st change of sampling distribution:\n",
    "G = allutils.graph_generator.change_weights(G)\n",
    "norm = sum([val for (node, val) in G.out_degree(weight='weight')])\n",
    "sampling_edges = {e[:-1]: e[-1]['weight']/norm for e in G.edges(data=True)}\n",
    "stream = [list(sampling_edges.keys())[i] for i in np.random.choice(range(len(sampling_edges)), size=iters)]#, p=sampling_edges.values()\n",
    "personalization = {k: v / norm for k, v in G.out_degree(weight='weight')}\n",
    "p_prime_nodes = {i: personalization[i]/G.out_degree(i, weight='weight') for i in G.nodes()}\n",
    "pr_basic = nx.pagerank(G, alpha=alpha, personalization=personalization, weight='weight')\n"
   ]
  },
  {
   "cell_type": "code",
   "execution_count": 14,
   "metadata": {},
   "outputs": [
    {
     "name": "stdout",
     "output_type": "stream",
     "text": [
      "192525.71951924148\n"
     ]
    }
   ],
   "source": [
    "\n",
    "RS_1, current_1, tau_1, spearman_1, pearson_1, error_1, x_1 = flowPR(p_prime_nodes, pr_basic, stream, copy.deepcopy(RS), copy.deepcopy(current), iters = iters, beta = beta, gamma = gamma,  padding = iters)\n"
   ]
  },
  {
   "cell_type": "code",
   "execution_count": 16,
   "metadata": {},
   "outputs": [],
   "source": [
    "\n",
    "#2nd change of sampling distribution:\n",
    "G = allutils.graph_generator.change_weights(G)\n",
    "norm = sum([val for (node, val) in G.out_degree(weight='weight')])\n",
    "sampling_edges = {e[:-1]: e[-1]['weight']/norm for e in G.edges(data=True)}\n",
    "stream = [list(sampling_edges.keys())[i] for i in np.random.choice(range(len(sampling_edges)), size=iters)]#, p=sampling_edges.values()\n",
    "personalization = {k: v / norm for k, v in G.out_degree(weight='weight')}\n",
    "p_prime_nodes = {i: personalization[i]/G.out_degree(i, weight='weight') for i in G.nodes()}\n",
    "pr_basic = nx.pagerank(G, alpha=alpha, personalization=personalization, weight='weight')\n"
   ]
  },
  {
   "cell_type": "code",
   "execution_count": 17,
   "metadata": {},
   "outputs": [
    {
     "name": "stdout",
     "output_type": "stream",
     "text": [
      "292686.5275766786\n"
     ]
    }
   ],
   "source": [
    "\n",
    "RS_2, current_2, tau_2, spearman_2, pearson_2, error_2, x_2 = flowPR(p_prime_nodes, pr_basic, stream, copy.deepcopy(RS_1), copy.deepcopy(current_1), iters = iters, beta = beta, gamma = gamma, padding = 2*iters)\n"
   ]
  },
  {
   "cell_type": "code",
   "execution_count": 18,
   "metadata": {},
   "outputs": [
    {
     "data": {
      "image/png": "[encoded data removed]",
      "text/plain": [
       "<Figure size 432x288 with 1 Axes>"
      ]
     },
     "metadata": {
      "needs_background": "light"
     },
     "output_type": "display_data"
    }
   ],
   "source": [
    "\n",
    "if do_dump:\n",
    "    unique_out = str(beta).replace('.','-') + '_' + mode  + '_shift_beta_' + str(uuid.uuid4())\n",
    "    pickle.dump([RS, pearson, spearman, tau, error, x,\\\n",
    "            RS_1, pearson_1, spearman_1, tau_1, error_1, x_1,\\\n",
    "            RS_2, pearson_2, spearman_2, tau_2, error_2, x_2], open(unique_out+\".p\", \"wb\"))\n",
    "\n",
    "if do_plot:\n",
    "    plt.figure('adaptation')\n",
    "    \n",
    "    x = list(x) + list(x_1) + list(x_2)\n",
    "\n",
    "    plt.plot(x, pearson + pearson_1 + pearson_2, linestyle = '--')\n",
    "    plt.plot(x, spearman + spearman_1 + spearman_2, linestyle = '-')\n",
    "    #plt.plot(x, tau + tau_1 + tau_2, linestyle = '-.')\n",
    "    plt.plot(x, error + error_1 + error_2, linestyle = ':')\n",
    "    \n",
    "    leg = ['Pearson\\'s r', 'Spearman\\'s rho', 'error']\n",
    "    plt.legend(leg, loc=0)\n",
    "    plt.xlabel('number of temporal edges', fontsize=25)\n",
    "    plt.tight_layout()\n",
    "    plt.savefig(mode+'_adaptation.pdf')\n"
   ]
  },
  {
   "cell_type": "code",
   "execution_count": null,
   "metadata": {},
   "outputs": [],
   "source": []
  }
 ],
 "metadata": {
  "interpreter": {
   "hash": "ee6ef56facda7503055c4941e2c2083c4bcc9ecb08a66ac58f56d3b05ea5e5fc"
  },
  "kernelspec": {
   "display_name": "Python 3.8.5 ('tensorflow')",
   "language": "python",
   "name": "python3"
  },
  "language_info": {
   "codemirror_mode": {
    "name": "ipython",
    "version": 3
   },
   "file_extension": ".py",
   "mimetype": "text/x-python",
   "name": "python",
   "nbconvert_exporter": "python",
   "pygments_lexer": "ipython3",
   "version": "3.8.5"
  },
  "orig_nbformat": 4
 },
 "nbformat": 4,
 "nbformat_minor": 2
}
